{
  "cells": [
    {
      "cell_type": "raw",
      "metadata": {},
      "source": [
        "---\n",
        "title: INTRODUÇÃO AO PYTHON\n",
        "author: João Ricardo F. de Lima\n",
        "date: today\n",
        "editor: source\n",
        "lang: pt\n",
        "language:\n",
        "  toc-title-document: '<a href=\"https://www.facape.br/\" target=\"_blank\"><img src=\"https://github.com/econfacape/macroeconometria/blob/main/logofacape.jpg?raw=true\" alt=\"Logotipo Facape\" width=\"150\"></a>'\n",
        "format:\n",
        "  html:\n",
        "    toc: true\n",
        "    toc_float:\n",
        "      collapsed: 'yes'\n",
        "      smooth_scroll: 'yes'\n",
        "    toc-location: left\n",
        "    code-fold: false\n",
        "    embed-resources: true\n",
        "    page-layout: full\n",
        "    fig-asp: 0.618\n",
        "    fig-width: 8\n",
        "    fig-height: 5\n",
        "    fig-dpi: 300\n",
        "    fig-align: center\n",
        "    df-print: paged\n",
        "    fontsize: 13pt\n",
        "theme:\n",
        "  light: flatly\n",
        "execute:\n",
        "  echo: true\n",
        "  message: false\n",
        "  warning: false\n",
        "---"
      ],
      "id": "52aa44eb"
    },
    {
      "cell_type": "markdown",
      "metadata": {},
      "source": [
        "## Introdução\n",
        "\n",
        "[^1]Há duas principais maneiras de chegar a esse ambiente de programação:\n",
        "\n",
        "- **Localmente**: é preciso instalar o Python e uma IDE no seu computador.\n",
        "\n",
        "- **Na nuvem**: acessa pelo navegador um ambiente já pronto e configurado para rodar Python.\n",
        "\n",
        "[^1]: Todo este material foi retirado de diversas postagens e cursos da Análise Macro (www.analisemacro.com.br)\n",
        "\n",
        "Um ambiente na nuvem pode ser o `Jupyter Notebook/Google Colab` e um ambiente local pode ser o `VsCode` ou `Anaconda`, mas a opção aqui é o Quarto do RStudio.\n",
        "\n",
        "\n",
        "### Jupyter Notebook/Google Colab\n",
        "\n",
        "O Jupyter Notebook é uma interface para programar em uma estrutura de \"caderno de anotação\": você pode escrever textos, inserir imagens, etc. e adicionar blocos de código, assim como exibir os resultados do código, tudo em um mesmo arquivo. Suas principais vantagens se referem a interface simples e intuitiva para iniciantes, além da facilidade de compartilhar códigos.\n",
        "\n",
        "Para usar a interface do Jupyter na nuvem, basta seguir estes passos:\n",
        "\n",
        "1. Ter uma conta no [Google](https://www.google.com.br/);\n",
        "2. Acessar o [Google Drive](https://drive.google.com/);\n",
        "3. Clicar em Novo (*New*) > Mais (*More*) > Google Colaboratory.\n",
        "\n",
        "E com isso já se tem um ambiente de programação em Python. \n",
        "\n",
        "O que estes procedimentos fazem é criar um arquivo \"*Untitled0.ipynb*\" no seu Google Drive. Dessa forma, você pode escolher onde criar o arquivo e organizar seus códigos em pastas, se preferir.\n",
        "\n",
        "O ponto forte está na sua capacidade de fácil integração (Google Drive, Github, entre outros), além de não ser necessário ter instalado a linguagem na máquina.\n",
        "\n",
        "Para acessar, basta ir no site https://colab.research.google.com/, ter uma conta Google e criar um novo notebook.\n",
        "\n",
        "### Quarto\n",
        "\n",
        "O uso no Quarto se torna mais tranquilo para quem já usa o RStudio e trabalha tanto com o R quanto o Python. Para inserir os códigos a única diferença é que os `chunks` passam agora a iniciar com `{python}` ao invés de `{r}` depois das três crases. \n",
        "\n",
        "E ainda existe a possibilidade de rodar Python dentro do R, desde que seja usado o pacote `reticulate`. \n",
        "\n",
        "Um bom post sobre como preparar o ambiente de trabalho deve ser lido nesta página (https://analisemacro.com.br/data-science/python/introducao-ao-python-como-preparar-o-ambiente-de-trabalho/).\n",
        "\n",
        "\n",
        "```{r}\n",
        "#install.packages(\"reticulate\")\n",
        "reticulate::py_config()\n",
        "```"
      ],
      "id": "14f66a13"
    },
    {
      "cell_type": "code",
      "metadata": {},
      "source": [
        "#py -m pip install jupyter\n",
        "1 + 1"
      ],
      "id": "a7bef769",
      "execution_count": null,
      "outputs": []
    },
    {
      "cell_type": "markdown",
      "metadata": {},
      "source": [
        "# Instalações de Pacotes\n",
        "\n",
        "\n",
        "```{r}\n",
        "#reticulate::py_install(\"pandas\")\n",
        "```"
      ],
      "id": "7e2a52d8"
    },
    {
      "cell_type": "code",
      "metadata": {},
      "source": [
        "#!pip install python-bcb #Google Colab\n",
        "#py -m pip install python-bcb #Terminal Windows\n",
        "#python3 -m pip install python-bcb #Terminal Mac"
      ],
      "id": "c9245e55",
      "execution_count": null,
      "outputs": []
    },
    {
      "cell_type": "markdown",
      "metadata": {},
      "source": [
        "# Pacotes pandas e numpy\n",
        "\n",
        "::: grid\n",
        "::: g-col-6\n",
        "### **Pandas**\n",
        "\n",
        "- É uma biblioteca para **análise e tratamento de dados** no Python.<br><br>\n",
        "- Oferece uma **sintaxe** e **estrutura de dados** flexível.<br><br>\n",
        "- Cobre (quase) tudo que você precisa para **analisar dados**.<br><br>\n",
        "- É **gratuito** e de **código aberto**.\n",
        "\n",
        "Saiba mais: [https://pandas.pydata.org/](https://pandas.pydata.org/)\n",
        "\n",
        ":::\n",
        "\n",
        "::: g-col-6\n",
        "### **Numpy**\n",
        "\n",
        "- É uma biblioteca para **computação numérica** no Python;<br><br>\n",
        "- Oferece uma **estrutura vetorial e matricial** para dados numéricos;<br><br>\n",
        "- É a **base de muitas bibliotecas**;<br><br>\n",
        "- É **gratuito** e de **código aberto**.\n",
        "\n",
        "Saiba mais: [https://numpy.org/](https://numpy.org/)\n",
        "\n",
        ":::\n",
        ":::\n",
        "\n",
        "## Unboxing do pandas\n",
        "\n",
        "::: grid\n",
        "::: g-col-6\n",
        "\n",
        "### Estrutura de dados tabulares\n",
        "\n",
        "```{r, echo=FALSE, out.width=\"45%\"}\n",
        "knitr::include_graphics(\"imgs/pd_dataframe.svg\")\n",
        "```\n",
        "\n",
        "\n",
        ":::\n",
        "::: g-col-6\n",
        "\n",
        "### Leitura e escrita de arquivos *offline*\n",
        "\n",
        "```{r, echo=FALSE, out.width=\"95%\"}\n",
        "knitr::include_graphics(\"imgs/pd_import_export.svg\")\n",
        "```\n",
        "\n",
        "\n",
        ":::\n",
        ":::\n",
        "\n",
        "\n",
        "::: grid\n",
        "::: g-col-6\n",
        "\n",
        "###  Manipulação de dados facilitada\n",
        "\n",
        "```{r, echo=FALSE, out.width=\"85%\"}\n",
        "knitr::include_graphics(\"imgs/pd_wrangle.svg\")\n",
        "```\n",
        "\n",
        "\n",
        ":::\n",
        "::: g-col-6\n",
        "\n",
        "###  Módulo para visualização de dados\n",
        "\n",
        "```{r, echo=FALSE, out.width=\"95%\"}\n",
        "knitr::include_graphics(\"imgs/pd_dataviz.svg\")\n",
        "```\n",
        "\n",
        "\n",
        ":::\n",
        ":::\n",
        "\n",
        "## Para fazer isso:\n",
        "\n",
        "O ciclo de análise de dados...\n",
        "\n",
        "\n",
        "```{r, echo=FALSE, out.width=\"100%\"}\n",
        "knitr::include_graphics(\"imgs/ciclo_dados.png\")\n",
        "```\n",
        "\n",
        "\n",
        "\n",
        "## Com o pandas, numpy e o Python, usa-se isso:\n",
        "\n",
        "As principais bibliotecas usados para análise de dados.\n",
        "\n",
        "\n",
        "```{r, echo=FALSE, out.width=\"100%\"}\n",
        "knitr::include_graphics(\"imgs/ciclo_dados_bibliotecas.png\")\n",
        "```\n",
        "\n",
        "\n",
        "## Importando Arquivos\n",
        "\n",
        "Para importar um arquivo CSV *offline* pode-se usar a biblioteca `pandas` no Python:\n"
      ],
      "id": "063c327a"
    },
    {
      "cell_type": "code",
      "metadata": {},
      "source": [
        "# Importa o arquivo \"dados.csv\" salvo na pasta \"dados\" a partir da pasta atual\n",
        "import pandas as pd\n",
        "tabela = pd.read_csv(filepath_or_buffer = \"dados/dados.csv\")"
      ],
      "id": "50ed4a28",
      "execution_count": null,
      "outputs": []
    },
    {
      "cell_type": "markdown",
      "metadata": {},
      "source": [
        "A função `read_csv()` importa o arquivo para um objeto `DataFrame` no Python, basta apontar a localização.\n",
        "\n",
        "Por padrão, a função tenta adivinhar os tipos das colunas e utiliza a primeira linha como nome das colunas da tabela.\n"
      ],
      "id": "a472b6b2"
    },
    {
      "cell_type": "code",
      "metadata": {},
      "source": [
        "tabela"
      ],
      "id": "e2dc2f99",
      "execution_count": null,
      "outputs": []
    },
    {
      "cell_type": "markdown",
      "metadata": {},
      "source": [
        "### Importando CSV com ponto e vírgula (;) de separador\n",
        "\n",
        "O padrão de arquivos CSV é usar a vírgula como separador dos valores, mas em alguns casos o arquivo CSV pode ter sido gerado com um separador diferente.\n",
        "\n",
        "No caso de separador ponto e vírgula (;) em um arquivo CSV, o padrão é que os decimais sejam, então, uma vírgula. Para importar nesse formato use os argumentos da função `read_csv()`:\n"
      ],
      "id": "a62963be"
    },
    {
      "cell_type": "code",
      "metadata": {},
      "source": [
        "# Importa arquivo CSV com separador ;\n",
        "tabela = pd.read_csv(filepath_or_buffer = \"dados/dados_pv.csv\", \n",
        "        sep = \";\", decimal = \",\")\n",
        "tabela.head()"
      ],
      "id": "bffbd540",
      "execution_count": null,
      "outputs": []
    },
    {
      "cell_type": "markdown",
      "metadata": {},
      "source": [
        "### Lidando com codificação de caracteres\n",
        "\n",
        "O padrão do pacote `pandas` é utilizar a mesma codificação de caracteres de fábrica do Python, que é a UTF-8. Se o arquivo CSV foi gerado com outra codificação pode ser que a importação dos dados saia do resultado desejado. O principal problema que pode acontecer é caracteres especiais, como \"ç\", não serem reconhecidos ou a importação gerar um erro. Por exemplo (dados do TSE):\n"
      ],
      "id": "ebc30c25"
    },
    {
      "cell_type": "code",
      "metadata": {},
      "source": [
        "# Importa arquivo CSV com separador ; e encoding padrão (gera um erro)\n",
        "tse_codificacao_eua = pd.read_csv(\n",
        "  filepath_or_buffer = \"dados/tse.csv\", \n",
        "  sep = \";\"\n",
        "  )"
      ],
      "id": "14f68d3c",
      "execution_count": null,
      "outputs": []
    },
    {
      "cell_type": "markdown",
      "metadata": {},
      "source": [
        "Para lidar com esses problemas deve-se apontar uma codificação compatível com o arquivo no momento da importação. Basta informar no argumento `encoding` qual é a codificação correta:\n"
      ],
      "id": "626f9715"
    },
    {
      "cell_type": "code",
      "metadata": {},
      "source": [
        "# Importa arquivo CSV com separador ; e encoding latin1\n",
        "tse_codificacao_br = pd.read_csv(\n",
        "  filepath_or_buffer = \"dados/tse.csv\",\n",
        "  sep = \";\",\n",
        "  encoding = \"latin_1\"\n",
        "  )\n",
        "tse_codificacao_br.iloc[range(3), range(6)]"
      ],
      "id": "f222c290",
      "execution_count": null,
      "outputs": []
    },
    {
      "cell_type": "markdown",
      "metadata": {},
      "source": [
        "### Importando Excel\n",
        "\n",
        "Para importar um arquivo Excel *offline* também pode usar a biblioteca **pandas** no Python:\n"
      ],
      "id": "cd9e81e3"
    },
    {
      "cell_type": "code",
      "metadata": {},
      "source": [
        "tabela_excel = pd.read_excel(io = \"dados/dados.xlsx\")\n",
        "tabela_excel"
      ],
      "id": "9fe34680",
      "execution_count": null,
      "outputs": []
    }
  ],
  "metadata": {
    "kernelspec": {
      "name": "python3",
      "language": "python",
      "display_name": "Python 3 (ipykernel)"
    }
  },
  "nbformat": 4,
  "nbformat_minor": 5
}